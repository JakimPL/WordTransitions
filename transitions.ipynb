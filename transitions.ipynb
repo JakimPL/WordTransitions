{
 "cells": [
  {
   "cell_type": "code",
   "execution_count": 1,
   "id": "57ced2f9-4aac-415e-ae5f-b4c28913dfb0",
   "metadata": {},
   "outputs": [],
   "source": [
    "%load_ext autoreload\n",
    "%autoreload 2"
   ]
  },
  {
   "cell_type": "code",
   "execution_count": 2,
   "id": "0a50e988-656b-4bae-abd3-a46a93450935",
   "metadata": {},
   "outputs": [],
   "source": [
    "from pathlib import Path\n",
    "import random\n",
    "\n",
    "import numpy as np\n",
    "\n",
    "from utils import save_pickle, load_pickle\n",
    "from generator import WordGenerator\n",
    "from graph import WordGraph"
   ]
  },
  {
   "cell_type": "code",
   "execution_count": 3,
   "id": "945fcdcf-9199-4c8b-8ed8-076596d27417",
   "metadata": {},
   "outputs": [],
   "source": [
    "PATH_GRAPH = Path(\"graph.pkl\")\n",
    "TOP_ITEMS = 15\n",
    "DIRECTED = True\n",
    "ALPHABET = [chr(ord(\"A\") + i) for i in range(4)]"
   ]
  },
  {
   "cell_type": "code",
   "execution_count": 4,
   "id": "a854374d-bb2b-415e-bd38-6d091807420a",
   "metadata": {},
   "outputs": [
    {
     "data": {
      "application/vnd.jupyter.widget-view+json": {
       "model_id": "3427deef713c4c4e8918824064e3134d",
       "version_major": 2,
       "version_minor": 0
      },
      "text/plain": [
       "  0%|          | 0/9 [00:00<?, ?it/s]"
      ]
     },
     "metadata": {},
     "output_type": "display_data"
    },
    {
     "data": {
      "application/vnd.jupyter.widget-view+json": {
       "model_id": "23b6ed767b974a28953fd4cabbd687a7",
       "version_major": 2,
       "version_minor": 0
      },
      "text/plain": [
       "  0%|          | 0/12 [00:00<?, ?it/s]"
      ]
     },
     "metadata": {},
     "output_type": "display_data"
    },
    {
     "name": "stdout",
     "output_type": "stream",
     "text": [
      "Relations:\n",
      "('ba', 'ca') 2\n",
      "('ca', 'ba') 2\n",
      "('an', 'ar') 2\n",
      "('ar', 'an') 2\n",
      "('r', 'ra') 1\n",
      "('ra', 'r') 1\n",
      "('ha', 'hea') 1\n",
      "('hea', 'ha') 1\n",
      "('hat', 'hot') 1\n",
      "('hot', 'hat') 1\n",
      "('ba', 'a') 1\n",
      "('a', 'ba') 1\n",
      "\n",
      "Transitions:\n",
      "ban [('can', ('ba', 'ca')), ('bar', ('an', 'ar'))]\n",
      "can [('ban', ('ca', 'ba')), ('car', ('an', 'ar'))]\n",
      "bar [('ban', ('ar', 'an')), ('car', ('ba', 'ca')), ('bara', ('r', 'ra'))]\n",
      "car [('can', ('ar', 'an')), ('bar', ('ca', 'ba'))]\n",
      "bara [('bar', ('ra', 'r')), ('ara', ('ba', 'a'))]\n",
      "hat [('heat', ('ha', 'hea')), ('hot', ('hat', 'hot'))]\n",
      "heat [('hat', ('hea', 'ha'))]\n",
      "hot [('hat', ('hot', 'hat'))]\n",
      "ara [('bara', ('a', 'ba'))]\n"
     ]
    },
    {
     "data": {
      "text/plain": [
       "{'ba → ca': {'transitions': {'[-] → [+]': 0.5, '[+] → [-]': 0.5}, 'counts': 2},\n",
       " 'ca → ba': {'transitions': {'[+] → [-]': 0.5, '[-] → [+]': 0.5}, 'counts': 2},\n",
       " 'an → ar': {'transitions': {'[-] → [+]': 0.5, '[+] → [-]': 0.5}, 'counts': 2},\n",
       " 'ar → an': {'transitions': {'[+] → [-]': 0.5, '[-] → [+]': 0.5}, 'counts': 2},\n",
       " 'r → ra': {'transitions': {'[+] → [-]': 1.0}, 'counts': 1},\n",
       " 'ra → r': {'transitions': {'[-] → [+]': 1.0}, 'counts': 1},\n",
       " 'ha → hea': {'transitions': {'[+] → [-]': 1.0}, 'counts': 1},\n",
       " 'hea → ha': {'transitions': {'[-] → [+]': 1.0}, 'counts': 1},\n",
       " 'hat → hot': {'transitions': {'[+] → [+]': 1.0}, 'counts': 1},\n",
       " 'hot → hat': {'transitions': {'[+] → [+]': 1.0}, 'counts': 1},\n",
       " 'ba → a': {'transitions': {'[-] → [+]': 1.0}, 'counts': 1},\n",
       " 'a → ba': {'transitions': {'[+] → [-]': 1.0}, 'counts': 1}}"
      ]
     },
     "execution_count": 4,
     "metadata": {},
     "output_type": "execute_result"
    }
   ],
   "source": [
    "test_dictionary = {\n",
    "    'ban': False,\n",
    "    'can': True,\n",
    "    'bar': True,\n",
    "    'car': False,\n",
    "    'hat': True,\n",
    "    'heat': False,\n",
    "    'hot': True,\n",
    "    'bara': False,\n",
    "    'ara': True\n",
    "}\n",
    "\n",
    "wg = WordGraph(test_dictionary)\n",
    "\n",
    "print(\"Relations:\")\n",
    "for relation, count in wg.edges.items():\n",
    "    print(relation, count)\n",
    "\n",
    "print(\"\\nTransitions:\")\n",
    "for word, transitions in wg.graph.items():\n",
    "    print(word, transitions)\n",
    "\n",
    "wg.relation_map"
   ]
  },
  {
   "cell_type": "code",
   "execution_count": 5,
   "id": "4f474387-ef88-4357-9110-178346a211e8",
   "metadata": {},
   "outputs": [
    {
     "data": {
      "application/vnd.jupyter.widget-view+json": {
       "model_id": "51c154d7393f423d842d33c848bc21a9",
       "version_major": 2,
       "version_minor": 0
      },
      "text/plain": [
       "  0%|          | 0/10000 [00:00<?, ?it/s]"
      ]
     },
     "metadata": {},
     "output_type": "display_data"
    },
    {
     "data": {
      "application/vnd.jupyter.widget-view+json": {
       "model_id": "0790bc0036ab4ab19b266304ef46317d",
       "version_major": 2,
       "version_minor": 0
      },
      "text/plain": [
       "  0%|          | 0/9883 [00:00<?, ?it/s]"
      ]
     },
     "metadata": {},
     "output_type": "display_data"
    },
    {
     "data": {
      "application/vnd.jupyter.widget-view+json": {
       "model_id": "493f76a027664f8baa93c29e87f88c86",
       "version_major": 2,
       "version_minor": 0
      },
      "text/plain": [
       "  0%|          | 0/342 [00:00<?, ?it/s]"
      ]
     },
     "metadata": {},
     "output_type": "display_data"
    }
   ],
   "source": [
    "if not PATH_GRAPH.exists():    \n",
    "    generator = WordGenerator(ALPHABET, positives=0.3, seed=137)\n",
    "    words = generator(10000)    \n",
    "    wg = WordGraph(words)\n",
    "    save_pickle(wg, PATH_GRAPH)\n",
    "else:\n",
    "    wg = load_pickle(PATH_GRAPH)"
   ]
  },
  {
   "cell_type": "code",
   "execution_count": 6,
   "id": "8e14d5d3-d613-4c7a-9161-7c425e7d9879",
   "metadata": {},
   "outputs": [
    {
     "name": "stdout",
     "output_type": "stream",
     "text": [
      "\n",
      "ACB → AAB (38):\n",
      "[-] → [-] 44.74%\n",
      "[+] → [-] 42.11%\n",
      "[-] → [+] 5.26%\n",
      "[+] → [+] 7.89%\n",
      "\n",
      "CAC → CBC (84):\n",
      "[-] → [-] 45.24%\n",
      "[+] → [+] 10.71%\n",
      "[+] → [-] 27.38%\n",
      "[-] → [+] 16.67%\n",
      "\n",
      "AAC → ACC (73):\n",
      "[-] → [-] 45.21%\n",
      "[+] → [-] 28.77%\n",
      "[-] → [+] 20.55%\n",
      "[+] → [+] 5.48%\n",
      "\n",
      "DAA → DDA (26):\n",
      "[+] → [-] 46.15%\n",
      "[-] → [+] 11.54%\n",
      "[+] → [+] 7.69%\n",
      "[-] → [-] 34.62%\n",
      "\n",
      "AAC → ABC (52):\n",
      "[-] → [-] 48.08%\n",
      "[+] → [-] 30.77%\n",
      "[-] → [+] 19.23%\n",
      "[+] → [+] 1.92%\n",
      "\n",
      "CBC → CCC (68):\n",
      "[-] → [+] 16.18%\n",
      "[-] → [-] 50.00%\n",
      "[+] → [-] 26.47%\n",
      "[+] → [+] 7.35%\n",
      "\n",
      "AC → AAC (88):\n",
      "[-] → [-] 52.27%\n",
      "[+] → [+] 5.68%\n",
      "[+] → [-] 22.73%\n",
      "[-] → [+] 19.32%\n",
      "\n",
      "CAC → CCC (81):\n",
      "[+] → [-] 23.46%\n",
      "[+] → [+] 9.88%\n",
      "[-] → [-] 51.85%\n",
      "[-] → [+] 14.81%\n",
      "\n",
      "CCB → CAB (44):\n",
      "[-] → [-] 50.00%\n",
      "[+] → [-] 31.82%\n",
      "[+] → [+] 9.09%\n",
      "[-] → [+] 9.09%\n",
      "\n",
      "CA → C (54):\n",
      "[-] → [-] 48.15%\n",
      "[-] → [+] 16.67%\n",
      "[+] → [-] 27.78%\n",
      "[+] → [+] 7.41%\n",
      "\n",
      "CC → CAC (98):\n",
      "[-] → [-] 56.12%\n",
      "[-] → [+] 15.31%\n",
      "[+] → [+] 8.16%\n",
      "[+] → [-] 20.41%\n",
      "\n",
      "CA → CCA (84):\n",
      "[-] → [-] 51.19%\n",
      "[+] → [-] 21.43%\n",
      "[-] → [+] 19.05%\n",
      "[+] → [+] 8.33%\n",
      "\n",
      "BC → BAC (44):\n",
      "[+] → [-] 29.55%\n",
      "[-] → [-] 50.00%\n",
      "[-] → [+] 18.18%\n",
      "[+] → [+] 2.27%\n",
      "\n",
      "AA → ACA (78):\n",
      "[-] → [-] 53.85%\n",
      "[-] → [+] 14.10%\n",
      "[+] → [-] 21.79%\n",
      "[+] → [+] 10.26%\n",
      "\n",
      "ADA → ACA (10):\n",
      "[+] → [-] 60.00%\n",
      "[-] → [-] 20.00%\n",
      "[-] → [+] 20.00%\n"
     ]
    }
   ],
   "source": [
    "top_positive_to_negatives = dict(sorted(\n",
    "    wg.relation_map.items(),\n",
    "    key=lambda entry: np.sqrt(entry[1][\"counts\"]) * entry[1][\"transitions\"].get(\"[+] → [-]\", 0),\n",
    "    reverse=True\n",
    ")[:TOP_ITEMS])\n",
    "\n",
    "for i, (relation, data) in enumerate(top_positive_to_negatives.items()):\n",
    "    print(f\"\\n{relation} ({data['counts']}):\")\n",
    "    for transition, value in data['transitions'].items():\n",
    "        print(transition, f\"{100 * value:.2f}%\")"
   ]
  },
  {
   "cell_type": "code",
   "execution_count": null,
   "id": "cdf52a7c-6163-46ed-b263-5de5c4e2b0a8",
   "metadata": {},
   "outputs": [],
   "source": []
  }
 ],
 "metadata": {
  "kernelspec": {
   "display_name": "Python 3 (ipykernel)",
   "language": "python",
   "name": "python3"
  },
  "language_info": {
   "codemirror_mode": {
    "name": "ipython",
    "version": 3
   },
   "file_extension": ".py",
   "mimetype": "text/x-python",
   "name": "python",
   "nbconvert_exporter": "python",
   "pygments_lexer": "ipython3",
   "version": "3.11.3"
  }
 },
 "nbformat": 4,
 "nbformat_minor": 5
}
